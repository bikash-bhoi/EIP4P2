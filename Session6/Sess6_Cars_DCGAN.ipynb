{
  "nbformat": 4,
  "nbformat_minor": 0,
  "metadata": {
    "colab": {
      "name": "Sess6_Cars_DCGAN.ipynb",
      "provenance": [],
      "collapsed_sections": [],
      "authorship_tag": "ABX9TyPmg+9zU3cFaCu2dfZzEw6h",
      "include_colab_link": true
    },
    "kernelspec": {
      "name": "python3",
      "display_name": "Python 3"
    },
    "accelerator": "GPU"
  },
  "cells": [
    {
      "cell_type": "markdown",
      "metadata": {
        "id": "view-in-github",
        "colab_type": "text"
      },
      "source": [
        "<a href=\"https://colab.research.google.com/github/eip4-mars/EIP4P2/blob/master/Session6/Sess6_Cars_DCGAN.ipynb\" target=\"_parent\"><img src=\"https://colab.research.google.com/assets/colab-badge.svg\" alt=\"Open In Colab\"/></a>"
      ]
    },
    {
      "cell_type": "code",
      "metadata": {
        "id": "RppglyTp4GMk",
        "colab_type": "code",
        "colab": {
          "base_uri": "https://localhost:8080/",
          "height": 51
        },
        "outputId": "09f63d74-3fc4-448a-d537-b3e5b9b1f2b3"
      },
      "source": [
        "import os\n",
        "import random\n",
        "import torch\n",
        "import torch.nn as nn\n",
        "import torch.nn.parallel\n",
        "import torch.backends.cudnn as cudnn\n",
        "import torch.optim as optim\n",
        "import torch.utils.data\n",
        "import torchvision.datasets as datasets\n",
        "import torchvision.transforms as transforms\n",
        "import torchvision.utils as vutils\n",
        "import numpy as np\n",
        "import matplotlib.pyplot as plt\n",
        "import matplotlib.animation as animation\n",
        "from torchsummary import summary\n",
        "from google.colab import files\n",
        "\n",
        "\n",
        "\n",
        "# Set random seed for reproducibility\n",
        "manualSeed = 999\n",
        "#manualSeed = random.randint(1, 10000) # use if you want new results\n",
        "print(\"Random Seed: \", manualSeed)\n",
        "random.seed(manualSeed)\n",
        "torch.manual_seed(manualSeed)"
      ],
      "execution_count": 2,
      "outputs": [
        {
          "output_type": "stream",
          "text": [
            "Random Seed:  999\n"
          ],
          "name": "stdout"
        },
        {
          "output_type": "execute_result",
          "data": {
            "text/plain": [
              "<torch._C.Generator at 0x7f1aca5aa150>"
            ]
          },
          "metadata": {
            "tags": []
          },
          "execution_count": 2
        }
      ]
    },
    {
      "cell_type": "code",
      "metadata": {
        "id": "YZ9ObRKD4_u8",
        "colab_type": "code",
        "colab": {}
      },
      "source": [
        "from google.colab import drive\n",
        "drive.mount('/content/gdrive',force_remount=True)\n",
        "!mkdir data\n",
        "!unzip /content/gdrive/My\\ Drive/EVA4P2/Sess6/redcars.zip -d data/"
      ],
      "execution_count": null,
      "outputs": []
    },
    {
      "cell_type": "code",
      "metadata": {
        "id": "f0nd9txf4h3G",
        "colab_type": "code",
        "colab": {}
      },
      "source": [
        "# Root directory for dataset\n",
        "dataroot = \"/content/data/\"\n",
        "\n",
        "# Number of workers for dataloader\n",
        "workers = 2\n",
        "\n",
        "# Batch size during training\n",
        "batch_size = 128\n",
        "\n",
        "# Spatial size of training images. All images will be resized to this\n",
        "#   size using a transformer.\n",
        "image_size = 128\n",
        "\n",
        "# Number of channels in the training images. For color images this is 3\n",
        "nc = 3\n",
        "\n",
        "# Size of z latent vector (i.e. size of generator input)\n",
        "nz = 64\n",
        "\n",
        "# Size of feature maps in generator\n",
        "ngf = 64\n",
        "\n",
        "# Size of feature maps in discriminator\n",
        "ndf = 64\n",
        "\n",
        "# Number of training epochs\n",
        "num_epochs = 1000\n",
        "\n",
        "# Learning rate for optimizers\n",
        "lr = 0.0002\n",
        "\n",
        "# Beta1 hyperparam for Adam optimizers\n",
        "beta1 = 0.5\n",
        "\n",
        "# Number of GPUs available. Use 0 for CPU mode.\n",
        "ngpu = 1"
      ],
      "execution_count": 3,
      "outputs": []
    },
    {
      "cell_type": "code",
      "metadata": {
        "id": "ZR-wKq8q6AH0",
        "colab_type": "code",
        "colab": {}
      },
      "source": [
        "\n",
        "# We can use an image folder dataset the way we have it setup.\n",
        "# Create the dataset\n",
        "dataset = datasets.ImageFolder(root=dataroot,\n",
        "                           transform=transforms.Compose([\n",
        "                                                transforms.Resize((image_size)),\n",
        "                                                transforms.ToTensor(),\n",
        "                                                transforms.Normalize(mean=[0.485, 0.456, 0.406], std=[0.229, 0.224, 0.225]),\n",
        "                                                ]))\n",
        "# Create the dataloader\n",
        "dataloader = torch.utils.data.DataLoader(dataset, batch_size=batch_size, shuffle=True, num_workers=2)\n",
        "\n",
        "# Decide which device we want to run on\n",
        "device = torch.device(\"cuda\" if torch.cuda.is_available() else \"cpu\")\n",
        "\n",
        "real_batch = next(iter(dataloader))\n",
        "plt.figure(figsize=(8,8))\n",
        "plt.axis(\"off\")\n",
        "plt.title(\"Training Images\")\n",
        "plt.imshow(np.transpose(vutils.make_grid(real_batch[0].to(device)[:64], padding=2, normalize=True).cpu(),(1,2,0)))"
      ],
      "execution_count": null,
      "outputs": []
    },
    {
      "cell_type": "code",
      "metadata": {
        "id": "Ue7YEmzr6zvt",
        "colab_type": "code",
        "colab": {}
      },
      "source": [
        "# custom weights initialization called on netG and netD\n",
        "def weights_init(m):\n",
        "    classname = m.__class__.__name__\n",
        "    if classname.find('Conv') != -1:\n",
        "        nn.init.normal_(m.weight.data, 0.0, 0.02)\n",
        "    elif classname.find('BatchNorm') != -1:\n",
        "        nn.init.normal_(m.weight.data, 1.0, 0.02)\n",
        "        nn.init.constant_(m.bias.data, 0)"
      ],
      "execution_count": 5,
      "outputs": []
    },
    {
      "cell_type": "code",
      "metadata": {
        "id": "a3S8IFDB8QwX",
        "colab_type": "code",
        "colab": {
          "base_uri": "https://localhost:8080/",
          "height": 884
        },
        "outputId": "a39b6415-9c26-45d2-95f7-acb5543be1e3"
      },
      "source": [
        "# Generator Code\n",
        "\n",
        "class Generator(nn.Module):\n",
        "    def __init__(self, ngpu):\n",
        "        super(Generator, self).__init__()\n",
        "        self.ngpu = ngpu\n",
        "        self.main = nn.Sequential(\n",
        "            # input is Z, going into a convolution\n",
        "            nn.ConvTranspose2d( nz, ngf * 8, 4, 1, 0, bias=False),\n",
        "            nn.BatchNorm2d(ngf * 8),\n",
        "            nn.ReLU(True),\n",
        "            # state size. (ngf*8) x 4 x 4\n",
        "            nn.ConvTranspose2d(ngf * 8, ngf * 4, 4, 2, 1, bias=False),\n",
        "            nn.BatchNorm2d(ngf * 4),\n",
        "            nn.ReLU(True),\n",
        "            # state size. (ngf*4) x 8 x 8\n",
        "            nn.ConvTranspose2d( ngf * 4, ngf * 2, 4, 2, 1, bias=False),\n",
        "            nn.BatchNorm2d(ngf * 2),\n",
        "            nn.ReLU(True),\n",
        "            # state size. (ngf*2) x 16 x 16\n",
        "            nn.ConvTranspose2d( ngf * 2, ngf, 4, 2, 1, bias=False),\n",
        "            nn.BatchNorm2d(ngf),\n",
        "            nn.ReLU(True),\n",
        "            # state size. (ngf*2) x 32 x 32\n",
        "            nn.ConvTranspose2d( ngf , ngf, 4, 2, 1, bias=False),\n",
        "            nn.BatchNorm2d(ngf),\n",
        "            nn.ReLU(True),\n",
        "            # state size. (ngf) x 64 x 64\n",
        "            nn.ConvTranspose2d( ngf, nc, 4, 2, 1, bias=False),\n",
        "            nn.Tanh()\n",
        "            # state size. (nc) x 128x 128\n",
        "        )\n",
        "\n",
        "    def forward(self, input):\n",
        "        return self.main(input)\n",
        "\n",
        "# Create the generator\n",
        "netG = Generator(ngpu).to(device)\n",
        "\n",
        "# Apply the weights_init function to randomly initialize all weights\n",
        "#  to mean=0, stdev=0.2.\n",
        "netG.apply(weights_init)\n",
        "\n",
        "# Print the model\n",
        "print(netG)\n",
        "\n",
        "#Check Params\n",
        "summary(netG, input_size=(64,1,1))"
      ],
      "execution_count": 6,
      "outputs": [
        {
          "output_type": "stream",
          "text": [
            "Generator(\n",
            "  (main): Sequential(\n",
            "    (0): ConvTranspose2d(64, 512, kernel_size=(4, 4), stride=(1, 1), bias=False)\n",
            "    (1): BatchNorm2d(512, eps=1e-05, momentum=0.1, affine=True, track_running_stats=True)\n",
            "    (2): ReLU(inplace=True)\n",
            "    (3): ConvTranspose2d(512, 256, kernel_size=(4, 4), stride=(2, 2), padding=(1, 1), bias=False)\n",
            "    (4): BatchNorm2d(256, eps=1e-05, momentum=0.1, affine=True, track_running_stats=True)\n",
            "    (5): ReLU(inplace=True)\n",
            "    (6): ConvTranspose2d(256, 128, kernel_size=(4, 4), stride=(2, 2), padding=(1, 1), bias=False)\n",
            "    (7): BatchNorm2d(128, eps=1e-05, momentum=0.1, affine=True, track_running_stats=True)\n",
            "    (8): ReLU(inplace=True)\n",
            "    (9): ConvTranspose2d(128, 64, kernel_size=(4, 4), stride=(2, 2), padding=(1, 1), bias=False)\n",
            "    (10): BatchNorm2d(64, eps=1e-05, momentum=0.1, affine=True, track_running_stats=True)\n",
            "    (11): ReLU(inplace=True)\n",
            "    (12): ConvTranspose2d(64, 64, kernel_size=(4, 4), stride=(2, 2), padding=(1, 1), bias=False)\n",
            "    (13): BatchNorm2d(64, eps=1e-05, momentum=0.1, affine=True, track_running_stats=True)\n",
            "    (14): ReLU(inplace=True)\n",
            "    (15): ConvTranspose2d(64, 3, kernel_size=(4, 4), stride=(2, 2), padding=(1, 1), bias=False)\n",
            "    (16): Tanh()\n",
            "  )\n",
            ")\n",
            "----------------------------------------------------------------\n",
            "        Layer (type)               Output Shape         Param #\n",
            "================================================================\n",
            "   ConvTranspose2d-1            [-1, 512, 4, 4]         524,288\n",
            "       BatchNorm2d-2            [-1, 512, 4, 4]           1,024\n",
            "              ReLU-3            [-1, 512, 4, 4]               0\n",
            "   ConvTranspose2d-4            [-1, 256, 8, 8]       2,097,152\n",
            "       BatchNorm2d-5            [-1, 256, 8, 8]             512\n",
            "              ReLU-6            [-1, 256, 8, 8]               0\n",
            "   ConvTranspose2d-7          [-1, 128, 16, 16]         524,288\n",
            "       BatchNorm2d-8          [-1, 128, 16, 16]             256\n",
            "              ReLU-9          [-1, 128, 16, 16]               0\n",
            "  ConvTranspose2d-10           [-1, 64, 32, 32]         131,072\n",
            "      BatchNorm2d-11           [-1, 64, 32, 32]             128\n",
            "             ReLU-12           [-1, 64, 32, 32]               0\n",
            "  ConvTranspose2d-13           [-1, 64, 64, 64]          65,536\n",
            "      BatchNorm2d-14           [-1, 64, 64, 64]             128\n",
            "             ReLU-15           [-1, 64, 64, 64]               0\n",
            "  ConvTranspose2d-16          [-1, 3, 128, 128]           3,072\n",
            "             Tanh-17          [-1, 3, 128, 128]               0\n",
            "================================================================\n",
            "Total params: 3,347,456\n",
            "Trainable params: 3,347,456\n",
            "Non-trainable params: 0\n",
            "----------------------------------------------------------------\n",
            "Input size (MB): 0.00\n",
            "Forward/backward pass size (MB): 9.56\n",
            "Params size (MB): 12.77\n",
            "Estimated Total Size (MB): 22.33\n",
            "----------------------------------------------------------------\n"
          ],
          "name": "stdout"
        }
      ]
    },
    {
      "cell_type": "code",
      "metadata": {
        "id": "C444eJf889a9",
        "colab_type": "code",
        "colab": {
          "base_uri": "https://localhost:8080/",
          "height": 850
        },
        "outputId": "6b5f8838-2be2-4e10-f382-f5e9cad42d3b"
      },
      "source": [
        "# Discriminator Code\n",
        "\n",
        "class Discriminator(nn.Module):\n",
        "    def __init__(self):\n",
        "        super(Discriminator, self).__init__()\n",
        "        #self.ngpu = ngpu\n",
        "        self.main = nn.Sequential(\n",
        "            # input is (nc) x 64 x 64\n",
        "            nn.Conv2d(nc, ndf, 4, 2, 1, bias=False),\n",
        "            nn.LeakyReLU(0.2, inplace=True),\n",
        "            # state size. (ndf) x 32 x 32\n",
        "            nn.Conv2d(ndf, ndf * 2, 4, 2, 1, bias=False),\n",
        "            nn.BatchNorm2d(ndf * 2),\n",
        "            nn.LeakyReLU(0.2, inplace=True),\n",
        "            # state size. (ndf*2) x 16 x 16\n",
        "            nn.Conv2d(ndf * 2, ndf * 2, 4, 2, 1, bias=False),\n",
        "            nn.BatchNorm2d(ndf * 2),\n",
        "            nn.LeakyReLU(0.2, inplace=True),\n",
        "            # state size. (ndf*2) x 8 x 8\n",
        "            nn.Conv2d(ndf * 2, ndf * 4, 4, 2, 1, bias=False),\n",
        "            nn.BatchNorm2d(ndf * 4),\n",
        "            nn.LeakyReLU(0.2, inplace=True),\n",
        "            # state size. (ndf*4) x 8 x 8\n",
        "            nn.Conv2d(ndf * 4, ndf * 4, 4, 2, 1, bias=False),\n",
        "            nn.BatchNorm2d(ndf * 4),\n",
        "            nn.LeakyReLU(0.2, inplace=True),\n",
        "            # state size. (ndf*4) x 4 x 4\n",
        "            nn.Conv2d(ndf * 4, 1, 4, 1, 0, bias=False),\n",
        "            nn.Sigmoid()\n",
        "        )\n",
        "\n",
        "    def forward(self, input):\n",
        "        return self.main(input)\n",
        "\n",
        "# Create the Discriminator\n",
        "netD = Discriminator().to(device)\n",
        "\n",
        "# Apply the weights_init function to randomly initialize all weights\n",
        "#  to mean=0, stdev=0.2.\n",
        "netD.apply(weights_init)\n",
        "\n",
        "# Print the model\n",
        "print(netD)\n",
        "\n",
        "#Check Params\n",
        "summary(netD, input_size=(3,128,128))"
      ],
      "execution_count": 7,
      "outputs": [
        {
          "output_type": "stream",
          "text": [
            "Discriminator(\n",
            "  (main): Sequential(\n",
            "    (0): Conv2d(3, 64, kernel_size=(4, 4), stride=(2, 2), padding=(1, 1), bias=False)\n",
            "    (1): LeakyReLU(negative_slope=0.2, inplace=True)\n",
            "    (2): Conv2d(64, 128, kernel_size=(4, 4), stride=(2, 2), padding=(1, 1), bias=False)\n",
            "    (3): BatchNorm2d(128, eps=1e-05, momentum=0.1, affine=True, track_running_stats=True)\n",
            "    (4): LeakyReLU(negative_slope=0.2, inplace=True)\n",
            "    (5): Conv2d(128, 128, kernel_size=(4, 4), stride=(2, 2), padding=(1, 1), bias=False)\n",
            "    (6): BatchNorm2d(128, eps=1e-05, momentum=0.1, affine=True, track_running_stats=True)\n",
            "    (7): LeakyReLU(negative_slope=0.2, inplace=True)\n",
            "    (8): Conv2d(128, 256, kernel_size=(4, 4), stride=(2, 2), padding=(1, 1), bias=False)\n",
            "    (9): BatchNorm2d(256, eps=1e-05, momentum=0.1, affine=True, track_running_stats=True)\n",
            "    (10): LeakyReLU(negative_slope=0.2, inplace=True)\n",
            "    (11): Conv2d(256, 256, kernel_size=(4, 4), stride=(2, 2), padding=(1, 1), bias=False)\n",
            "    (12): BatchNorm2d(256, eps=1e-05, momentum=0.1, affine=True, track_running_stats=True)\n",
            "    (13): LeakyReLU(negative_slope=0.2, inplace=True)\n",
            "    (14): Conv2d(256, 1, kernel_size=(4, 4), stride=(1, 1), bias=False)\n",
            "    (15): Sigmoid()\n",
            "  )\n",
            ")\n",
            "----------------------------------------------------------------\n",
            "        Layer (type)               Output Shape         Param #\n",
            "================================================================\n",
            "            Conv2d-1           [-1, 64, 64, 64]           3,072\n",
            "         LeakyReLU-2           [-1, 64, 64, 64]               0\n",
            "            Conv2d-3          [-1, 128, 32, 32]         131,072\n",
            "       BatchNorm2d-4          [-1, 128, 32, 32]             256\n",
            "         LeakyReLU-5          [-1, 128, 32, 32]               0\n",
            "            Conv2d-6          [-1, 128, 16, 16]         262,144\n",
            "       BatchNorm2d-7          [-1, 128, 16, 16]             256\n",
            "         LeakyReLU-8          [-1, 128, 16, 16]               0\n",
            "            Conv2d-9            [-1, 256, 8, 8]         524,288\n",
            "      BatchNorm2d-10            [-1, 256, 8, 8]             512\n",
            "        LeakyReLU-11            [-1, 256, 8, 8]               0\n",
            "           Conv2d-12            [-1, 256, 4, 4]       1,048,576\n",
            "      BatchNorm2d-13            [-1, 256, 4, 4]             512\n",
            "        LeakyReLU-14            [-1, 256, 4, 4]               0\n",
            "           Conv2d-15              [-1, 1, 1, 1]           4,096\n",
            "          Sigmoid-16              [-1, 1, 1, 1]               0\n",
            "================================================================\n",
            "Total params: 1,974,784\n",
            "Trainable params: 1,974,784\n",
            "Non-trainable params: 0\n",
            "----------------------------------------------------------------\n",
            "Input size (MB): 0.19\n",
            "Forward/backward pass size (MB): 8.22\n",
            "Params size (MB): 7.53\n",
            "Estimated Total Size (MB): 15.94\n",
            "----------------------------------------------------------------\n"
          ],
          "name": "stdout"
        }
      ]
    },
    {
      "cell_type": "code",
      "metadata": {
        "id": "6WpQEqIK9HMy",
        "colab_type": "code",
        "colab": {}
      },
      "source": [
        "# Initialize BCELoss function\n",
        "criterion = nn.BCELoss()\n",
        "\n",
        "# Create batch of latent vectors that we will use to visualize\n",
        "#  the progression of the generator\n",
        "fixed_noise = torch.randn(64, nz, 1, 1, device=device)\n",
        "\n",
        "# Establish convention for real and fake labels during training\n",
        "real_label = 1.\n",
        "fake_label = 0.\n",
        "\n",
        "# Setup Adam optimizers for both G and D\n",
        "optimizerD = optim.Adam(netD.parameters(), lr=lr, betas=(beta1, 0.999))\n",
        "optimizerG = optim.Adam(netG.parameters(), lr=lr, betas=(beta1, 0.999))"
      ],
      "execution_count": 8,
      "outputs": []
    },
    {
      "cell_type": "code",
      "metadata": {
        "id": "3Kx44YI9IauJ",
        "colab_type": "code",
        "colab": {}
      },
      "source": [
        "def save_jit(model,save_loc):\n",
        "    model.to(torch.device('cpu'))\n",
        "    model.eval()\n",
        "    traced_model = torch.jit.trace(model,torch.randn(1,64,1,1))\n",
        "    traced_model.save(save_loc)\n",
        "    files.download(save_loc)"
      ],
      "execution_count": 9,
      "outputs": []
    },
    {
      "cell_type": "code",
      "metadata": {
        "id": "pPoo1SEwAG8h",
        "colab_type": "code",
        "colab": {
          "base_uri": "https://localhost:8080/",
          "height": 1000
        },
        "outputId": "35c5e81e-bafc-4a7a-9135-b97917434096"
      },
      "source": [
        "# Training Loop\n",
        "\n",
        "# Lists to keep track of progress\n",
        "img_list = []\n",
        "G_losses = []\n",
        "D_losses = []\n",
        "iters = 0\n",
        "\n",
        "print(\"Starting Training Loop...\")\n",
        "# For each epoch\n",
        "for epoch in range(num_epochs):\n",
        "    # For each batch in the dataloader\n",
        "    for i, data in enumerate(dataloader, 0):\n",
        "\n",
        "        ############################\n",
        "        # (1) Update D network: maximize log(D(x)) + log(1 - D(G(z)))\n",
        "        ###########################\n",
        "        ## Train with all-real batch\n",
        "        netD.zero_grad()\n",
        "        # Format batch\n",
        "        real_cpu = data[0].to(device)\n",
        "        b_size = real_cpu.size(0)\n",
        "        label = torch.full((b_size,), real_label, dtype=torch.float, device=device)\n",
        "        # Forward pass real batch through D\n",
        "        output = netD(real_cpu).view(-1)\n",
        "        # Calculate loss on all-real batch\n",
        "        errD_real = criterion(output, label)\n",
        "        # Calculate gradients for D in backward pass\n",
        "        errD_real.backward()\n",
        "        D_x = output.mean().item()\n",
        "\n",
        "        ## Train with all-fake batch\n",
        "        # Generate batch of latent vectors\n",
        "        noise = torch.randn(b_size, nz, 1, 1, device=device)\n",
        "        # Generate fake image batch with G\n",
        "        fake = netG(noise)\n",
        "        label.fill_(fake_label)\n",
        "        # Classify all fake batch with D\n",
        "        output = netD(fake.detach()).view(-1)\n",
        "        # Calculate D's loss on the all-fake batch\n",
        "        errD_fake = criterion(output, label)\n",
        "        # Calculate the gradients for this batch\n",
        "        errD_fake.backward()\n",
        "        D_G_z1 = output.mean().item()\n",
        "        # Add the gradients from the all-real and all-fake batches\n",
        "        errD = errD_real + errD_fake\n",
        "        # Update D\n",
        "        optimizerD.step()\n",
        "\n",
        "        ############################\n",
        "        # (2) Update G network: maximize log(D(G(z)))\n",
        "        ###########################\n",
        "        netG.zero_grad()\n",
        "        label.fill_(real_label)  # fake labels are real for generator cost\n",
        "        # Since we just updated D, perform another forward pass of all-fake batch through D\n",
        "        output = netD(fake).view(-1)\n",
        "        # Calculate G's loss based on this output\n",
        "        errG = criterion(output, label)\n",
        "        # Calculate gradients for G\n",
        "        errG.backward()\n",
        "        D_G_z2 = output.mean().item()\n",
        "        # Update G\n",
        "        optimizerG.step()\n",
        "\n",
        "        # Output training stats\n",
        "        if epoch % 10 == 0 and i % batch_size-1 == 0:\n",
        "            print('[%d/%d]\\tLoss_D: %.4f\\tLoss_G: %.4f\\tD(x): %.4f\\tD(G(z)): %.4f / %.4f'\n",
        "                  % (epoch, num_epochs,\n",
        "                     errD.item(), errG.item(), D_x, D_G_z1, D_G_z2))\n",
        "\n",
        "        # Save Losses for plotting later\n",
        "        G_losses.append(errG.item())\n",
        "        D_losses.append(errD.item())\n",
        "\n",
        "        # Check how the generator is doing by saving G's output on fixed_noise\n",
        "        if (epoch % 20 == 0) or ((epoch == num_epochs-1) and (i == len(dataloader)-1)):\n",
        "            with torch.no_grad():\n",
        "                fake = netG(fixed_noise).detach().cpu()\n",
        "            img_list.append(vutils.make_grid(fake, padding=2, normalize=True))\n",
        "        \n",
        "\n",
        "        iters += 1\n",
        "\n"
      ],
      "execution_count": 10,
      "outputs": [
        {
          "output_type": "stream",
          "text": [
            "Starting Training Loop...\n",
            "[0/1000]\tLoss_D: 0.7361\tLoss_G: 4.4138\tD(x): 0.9682\tD(G(z)): 0.4744 / 0.0168\n",
            "[10/1000]\tLoss_D: 0.0062\tLoss_G: 10.4574\tD(x): 0.9950\tD(G(z)): 0.0009 / 0.0000\n",
            "[20/1000]\tLoss_D: 0.0134\tLoss_G: 8.0435\tD(x): 0.9981\tD(G(z)): 0.0114 / 0.0004\n",
            "[30/1000]\tLoss_D: 0.1689\tLoss_G: 7.3714\tD(x): 0.9660\tD(G(z)): 0.1185 / 0.0009\n",
            "[40/1000]\tLoss_D: 0.4278\tLoss_G: 4.0614\tD(x): 0.7863\tD(G(z)): 0.0694 / 0.0284\n",
            "[50/1000]\tLoss_D: 0.6648\tLoss_G: 4.2001\tD(x): 0.8965\tD(G(z)): 0.3581 / 0.0261\n",
            "[60/1000]\tLoss_D: 1.0525\tLoss_G: 2.2839\tD(x): 0.4225\tD(G(z)): 0.0074 / 0.1295\n",
            "[70/1000]\tLoss_D: 1.8828\tLoss_G: 2.4641\tD(x): 0.3321\tD(G(z)): 0.0282 / 0.1136\n",
            "[80/1000]\tLoss_D: 0.6482\tLoss_G: 6.4803\tD(x): 0.9271\tD(G(z)): 0.3992 / 0.0025\n",
            "[90/1000]\tLoss_D: 0.4117\tLoss_G: 2.2686\tD(x): 0.7839\tD(G(z)): 0.1261 / 0.1340\n",
            "[100/1000]\tLoss_D: 0.4574\tLoss_G: 2.8095\tD(x): 0.8226\tD(G(z)): 0.1933 / 0.0745\n",
            "[110/1000]\tLoss_D: 1.2037\tLoss_G: 4.3992\tD(x): 0.9791\tD(G(z)): 0.6319 / 0.0217\n",
            "[120/1000]\tLoss_D: 0.6757\tLoss_G: 6.6349\tD(x): 0.9377\tD(G(z)): 0.4237 / 0.0023\n",
            "[130/1000]\tLoss_D: 1.1426\tLoss_G: 2.6672\tD(x): 0.3908\tD(G(z)): 0.0136 / 0.0932\n",
            "[140/1000]\tLoss_D: 0.9547\tLoss_G: 1.6093\tD(x): 0.4728\tD(G(z)): 0.0448 / 0.2360\n",
            "[150/1000]\tLoss_D: 3.5889\tLoss_G: 5.3392\tD(x): 0.0752\tD(G(z)): 0.0014 / 0.0176\n",
            "[160/1000]\tLoss_D: 0.4754\tLoss_G: 2.6274\tD(x): 0.7638\tD(G(z)): 0.1522 / 0.1000\n",
            "[170/1000]\tLoss_D: 0.7661\tLoss_G: 1.7019\tD(x): 0.5581\tD(G(z)): 0.0118 / 0.2234\n",
            "[180/1000]\tLoss_D: 0.6888\tLoss_G: 7.0498\tD(x): 0.9751\tD(G(z)): 0.4552 / 0.0013\n",
            "[190/1000]\tLoss_D: 0.7816\tLoss_G: 2.2433\tD(x): 0.5153\tD(G(z)): 0.0163 / 0.1385\n",
            "[200/1000]\tLoss_D: 1.1667\tLoss_G: 1.7264\tD(x): 0.3823\tD(G(z)): 0.0027 / 0.2694\n",
            "[210/1000]\tLoss_D: 0.7952\tLoss_G: 3.7102\tD(x): 0.5344\tD(G(z)): 0.0184 / 0.0398\n",
            "[220/1000]\tLoss_D: 0.4625\tLoss_G: 2.3843\tD(x): 0.7087\tD(G(z)): 0.0347 / 0.1180\n",
            "[230/1000]\tLoss_D: 0.1411\tLoss_G: 3.9421\tD(x): 0.9213\tD(G(z)): 0.0512 / 0.0255\n",
            "[240/1000]\tLoss_D: 0.8835\tLoss_G: 3.9124\tD(x): 0.4780\tD(G(z)): 0.0238 / 0.0854\n",
            "[250/1000]\tLoss_D: 0.1704\tLoss_G: 4.7803\tD(x): 0.9695\tD(G(z)): 0.1234 / 0.0165\n",
            "[260/1000]\tLoss_D: 0.2955\tLoss_G: 5.1694\tD(x): 0.9610\tD(G(z)): 0.2128 / 0.0073\n",
            "[270/1000]\tLoss_D: 0.4684\tLoss_G: 2.7287\tD(x): 0.6809\tD(G(z)): 0.0169 / 0.0959\n",
            "[280/1000]\tLoss_D: 0.4246\tLoss_G: 6.6503\tD(x): 0.9852\tD(G(z)): 0.3105 / 0.0023\n",
            "[290/1000]\tLoss_D: 0.1755\tLoss_G: 3.4391\tD(x): 0.9151\tD(G(z)): 0.0758 / 0.0456\n",
            "[300/1000]\tLoss_D: 0.6320\tLoss_G: 3.6946\tD(x): 0.5896\tD(G(z)): 0.0056 / 0.0661\n",
            "[310/1000]\tLoss_D: 0.3515\tLoss_G: 5.4006\tD(x): 0.7329\tD(G(z)): 0.0058 / 0.0069\n",
            "[320/1000]\tLoss_D: 2.6752\tLoss_G: 4.1265\tD(x): 0.1190\tD(G(z)): 0.0010 / 0.0293\n",
            "[330/1000]\tLoss_D: 0.1887\tLoss_G: 4.0843\tD(x): 0.8891\tD(G(z)): 0.0610 / 0.0244\n",
            "[340/1000]\tLoss_D: 0.2957\tLoss_G: 2.3967\tD(x): 0.7783\tD(G(z)): 0.0164 / 0.1167\n",
            "[350/1000]\tLoss_D: 0.2145\tLoss_G: 4.0105\tD(x): 0.9173\tD(G(z)): 0.1132 / 0.0226\n",
            "[360/1000]\tLoss_D: 0.2318\tLoss_G: 2.9726\tD(x): 0.8195\tD(G(z)): 0.0180 / 0.0666\n",
            "[370/1000]\tLoss_D: 0.7202\tLoss_G: 2.9562\tD(x): 0.5629\tD(G(z)): 0.0243 / 0.0704\n",
            "[380/1000]\tLoss_D: 0.9807\tLoss_G: 3.4993\tD(x): 0.4508\tD(G(z)): 0.0081 / 0.0486\n",
            "[390/1000]\tLoss_D: 0.2042\tLoss_G: 3.9186\tD(x): 0.8536\tD(G(z)): 0.0321 / 0.0348\n",
            "[400/1000]\tLoss_D: 6.6120\tLoss_G: 9.3511\tD(x): 0.0069\tD(G(z)): 0.0000 / 0.0003\n",
            "[410/1000]\tLoss_D: 0.3231\tLoss_G: 3.9435\tD(x): 0.9024\tD(G(z)): 0.1814 / 0.0273\n",
            "[420/1000]\tLoss_D: 0.0742\tLoss_G: 4.1465\tD(x): 0.9551\tD(G(z)): 0.0261 / 0.0195\n",
            "[430/1000]\tLoss_D: 0.0905\tLoss_G: 3.6314\tD(x): 0.9579\tD(G(z)): 0.0449 / 0.0339\n",
            "[440/1000]\tLoss_D: 0.1603\tLoss_G: 4.8760\tD(x): 0.9707\tD(G(z)): 0.1157 / 0.0115\n",
            "[450/1000]\tLoss_D: 1.5968\tLoss_G: 5.9669\tD(x): 0.3087\tD(G(z)): 0.0002 / 0.0042\n",
            "[460/1000]\tLoss_D: 0.0862\tLoss_G: 3.9559\tD(x): 0.9593\tD(G(z)): 0.0424 / 0.0251\n",
            "[470/1000]\tLoss_D: 0.1020\tLoss_G: 4.2830\tD(x): 0.9496\tD(G(z)): 0.0469 / 0.0177\n",
            "[480/1000]\tLoss_D: 0.2546\tLoss_G: 3.1430\tD(x): 0.9188\tD(G(z)): 0.1396 / 0.0624\n",
            "[490/1000]\tLoss_D: 0.2254\tLoss_G: 4.2895\tD(x): 0.9856\tD(G(z)): 0.1687 / 0.0179\n",
            "[500/1000]\tLoss_D: 0.2690\tLoss_G: 4.5563\tD(x): 0.9215\tD(G(z)): 0.1575 / 0.0139\n",
            "[510/1000]\tLoss_D: 0.1428\tLoss_G: 4.4080\tD(x): 0.9451\tD(G(z)): 0.0763 / 0.0160\n",
            "[520/1000]\tLoss_D: 0.0402\tLoss_G: 5.2522\tD(x): 0.9905\tD(G(z)): 0.0298 / 0.0075\n",
            "[530/1000]\tLoss_D: 0.5865\tLoss_G: 4.4413\tD(x): 0.6101\tD(G(z)): 0.0059 / 0.0181\n",
            "[540/1000]\tLoss_D: 0.6642\tLoss_G: 4.8086\tD(x): 0.9665\tD(G(z)): 0.4081 / 0.0125\n",
            "[550/1000]\tLoss_D: 0.1385\tLoss_G: 3.7592\tD(x): 0.9331\tD(G(z)): 0.0592 / 0.0327\n",
            "[560/1000]\tLoss_D: 1.1701\tLoss_G: 3.5865\tD(x): 0.4562\tD(G(z)): 0.0216 / 0.0607\n",
            "[570/1000]\tLoss_D: 0.2189\tLoss_G: 4.9215\tD(x): 0.8352\tD(G(z)): 0.0161 / 0.0124\n",
            "[580/1000]\tLoss_D: 0.1276\tLoss_G: 3.8860\tD(x): 0.9590\tD(G(z)): 0.0790 / 0.0252\n",
            "[590/1000]\tLoss_D: 0.2182\tLoss_G: 3.7363\tD(x): 0.8753\tD(G(z)): 0.0683 / 0.0354\n",
            "[600/1000]\tLoss_D: 0.0916\tLoss_G: 5.7556\tD(x): 0.9809\tD(G(z)): 0.0677 / 0.0043\n",
            "[610/1000]\tLoss_D: 0.0186\tLoss_G: 6.7981\tD(x): 0.9837\tD(G(z)): 0.0016 / 0.0014\n",
            "[620/1000]\tLoss_D: 0.0086\tLoss_G: 9.7459\tD(x): 0.9927\tD(G(z)): 0.0009 / 0.0001\n",
            "[630/1000]\tLoss_D: 0.0006\tLoss_G: 33.6064\tD(x): 0.9994\tD(G(z)): 0.0000 / 0.0000\n",
            "[640/1000]\tLoss_D: 0.0003\tLoss_G: 33.3668\tD(x): 0.9997\tD(G(z)): 0.0000 / 0.0000\n",
            "[650/1000]\tLoss_D: 0.0001\tLoss_G: 33.0657\tD(x): 0.9999\tD(G(z)): 0.0000 / 0.0000\n",
            "[660/1000]\tLoss_D: 0.0000\tLoss_G: 32.5947\tD(x): 1.0000\tD(G(z)): 0.0000 / 0.0000\n",
            "[670/1000]\tLoss_D: 0.0001\tLoss_G: 31.5817\tD(x): 0.9999\tD(G(z)): 0.0000 / 0.0000\n",
            "[680/1000]\tLoss_D: 0.0132\tLoss_G: 5.9740\tD(x): 0.9998\tD(G(z)): 0.0128 / 0.0031\n",
            "[690/1000]\tLoss_D: 0.0004\tLoss_G: 34.0074\tD(x): 0.9996\tD(G(z)): 0.0000 / 0.0000\n",
            "[700/1000]\tLoss_D: 0.0002\tLoss_G: 33.8041\tD(x): 0.9998\tD(G(z)): 0.0000 / 0.0000\n",
            "[710/1000]\tLoss_D: 0.0000\tLoss_G: 33.5589\tD(x): 1.0000\tD(G(z)): 0.0000 / 0.0000\n",
            "[720/1000]\tLoss_D: 0.0000\tLoss_G: 33.2111\tD(x): 1.0000\tD(G(z)): 0.0000 / 0.0000\n",
            "[730/1000]\tLoss_D: 0.0001\tLoss_G: 32.6045\tD(x): 0.9999\tD(G(z)): 0.0000 / 0.0000\n",
            "[740/1000]\tLoss_D: 0.0000\tLoss_G: 30.8110\tD(x): 1.0000\tD(G(z)): 0.0000 / 0.0000\n",
            "[750/1000]\tLoss_D: 0.2968\tLoss_G: 10.4572\tD(x): 0.8079\tD(G(z)): 0.0003 / 0.0000\n",
            "[760/1000]\tLoss_D: 0.0562\tLoss_G: 5.2457\tD(x): 0.9944\tD(G(z)): 0.0489 / 0.0065\n",
            "[770/1000]\tLoss_D: 0.1875\tLoss_G: 4.9805\tD(x): 0.9377\tD(G(z)): 0.1070 / 0.0095\n",
            "[780/1000]\tLoss_D: 0.2856\tLoss_G: 10.5308\tD(x): 0.7908\tD(G(z)): 0.0011 / 0.0012\n",
            "[790/1000]\tLoss_D: 8.0745\tLoss_G: 11.7225\tD(x): 0.0012\tD(G(z)): 0.0000 / 0.0000\n",
            "[800/1000]\tLoss_D: 0.0946\tLoss_G: 4.7501\tD(x): 0.9476\tD(G(z)): 0.0366 / 0.0114\n",
            "[810/1000]\tLoss_D: 0.1018\tLoss_G: 4.7334\tD(x): 0.9419\tD(G(z)): 0.0386 / 0.0105\n",
            "[820/1000]\tLoss_D: 0.1168\tLoss_G: 4.4158\tD(x): 0.9640\tD(G(z)): 0.0729 / 0.0170\n",
            "[830/1000]\tLoss_D: 0.9846\tLoss_G: 5.4271\tD(x): 0.4754\tD(G(z)): 0.0004 / 0.0175\n",
            "[840/1000]\tLoss_D: 0.1828\tLoss_G: 4.2683\tD(x): 0.9123\tD(G(z)): 0.0766 / 0.0209\n",
            "[850/1000]\tLoss_D: 1.0714\tLoss_G: 4.5767\tD(x): 0.4232\tD(G(z)): 0.0005 / 0.0197\n",
            "[860/1000]\tLoss_D: 0.2528\tLoss_G: 4.2468\tD(x): 0.8072\tD(G(z)): 0.0103 / 0.0296\n",
            "[870/1000]\tLoss_D: 0.1780\tLoss_G: 4.9930\tD(x): 0.9620\tD(G(z)): 0.1188 / 0.0114\n",
            "[880/1000]\tLoss_D: 0.1089\tLoss_G: 4.3557\tD(x): 0.9633\tD(G(z)): 0.0657 / 0.0189\n",
            "[890/1000]\tLoss_D: 0.0821\tLoss_G: 4.9983\tD(x): 0.9630\tD(G(z)): 0.0420 / 0.0093\n",
            "[900/1000]\tLoss_D: 1.8741\tLoss_G: 2.5153\tD(x): 0.2281\tD(G(z)): 0.0008 / 0.1165\n",
            "[910/1000]\tLoss_D: 0.1071\tLoss_G: 4.4192\tD(x): 0.9760\tD(G(z)): 0.0767 / 0.0150\n",
            "[920/1000]\tLoss_D: 4.1827\tLoss_G: 4.0748\tD(x): 0.0367\tD(G(z)): 0.0001 / 0.0504\n",
            "[930/1000]\tLoss_D: 0.1585\tLoss_G: 3.9782\tD(x): 0.8666\tD(G(z)): 0.0063 / 0.0248\n",
            "[940/1000]\tLoss_D: 0.2413\tLoss_G: 4.0619\tD(x): 0.8434\tD(G(z)): 0.0293 / 0.0926\n",
            "[950/1000]\tLoss_D: 0.1055\tLoss_G: 3.7863\tD(x): 0.9306\tD(G(z)): 0.0294 / 0.0296\n",
            "[960/1000]\tLoss_D: 0.1161\tLoss_G: 4.5039\tD(x): 0.9609\tD(G(z)): 0.0684 / 0.0184\n",
            "[970/1000]\tLoss_D: 0.1565\tLoss_G: 3.8841\tD(x): 0.9291\tD(G(z)): 0.0739 / 0.0275\n",
            "[980/1000]\tLoss_D: 1.2239\tLoss_G: 5.8061\tD(x): 0.3973\tD(G(z)): 0.0006 / 0.0062\n",
            "[990/1000]\tLoss_D: 0.1216\tLoss_G: 4.3635\tD(x): 0.9135\tD(G(z)): 0.0232 / 0.0189\n"
          ],
          "name": "stdout"
        }
      ]
    },
    {
      "cell_type": "code",
      "metadata": {
        "id": "5bCxucKKWJzq",
        "colab_type": "code",
        "colab": {
          "base_uri": "https://localhost:8080/",
          "height": 17
        },
        "outputId": "7463d2e3-8de5-4164-c1b3-73630c355f8e"
      },
      "source": [
        "SV_LOC = 'DCGAN_cars.pt'\n",
        "save_jit(netG,SV_LOC)"
      ],
      "execution_count": 23,
      "outputs": [
        {
          "output_type": "display_data",
          "data": {
            "application/javascript": [
              "\n",
              "    async function download(id, filename, size) {\n",
              "      if (!google.colab.kernel.accessAllowed) {\n",
              "        return;\n",
              "      }\n",
              "      const div = document.createElement('div');\n",
              "      const label = document.createElement('label');\n",
              "      label.textContent = `Downloading \"${filename}\": `;\n",
              "      div.appendChild(label);\n",
              "      const progress = document.createElement('progress');\n",
              "      progress.max = size;\n",
              "      div.appendChild(progress);\n",
              "      document.body.appendChild(div);\n",
              "\n",
              "      const buffers = [];\n",
              "      let downloaded = 0;\n",
              "\n",
              "      const channel = await google.colab.kernel.comms.open(id);\n",
              "      // Send a message to notify the kernel that we're ready.\n",
              "      channel.send({})\n",
              "\n",
              "      for await (const message of channel.messages) {\n",
              "        // Send a message to notify the kernel that we're ready.\n",
              "        channel.send({})\n",
              "        if (message.buffers) {\n",
              "          for (const buffer of message.buffers) {\n",
              "            buffers.push(buffer);\n",
              "            downloaded += buffer.byteLength;\n",
              "            progress.value = downloaded;\n",
              "          }\n",
              "        }\n",
              "      }\n",
              "      const blob = new Blob(buffers, {type: 'application/binary'});\n",
              "      const a = document.createElement('a');\n",
              "      a.href = window.URL.createObjectURL(blob);\n",
              "      a.download = filename;\n",
              "      div.appendChild(a);\n",
              "      a.click();\n",
              "      div.remove();\n",
              "    }\n",
              "  "
            ],
            "text/plain": [
              "<IPython.core.display.Javascript object>"
            ]
          },
          "metadata": {
            "tags": []
          }
        },
        {
          "output_type": "display_data",
          "data": {
            "application/javascript": [
              "download(\"download_0618a2fb-2d2d-42ff-a0e9-85cdde70563a\", \"DCGAN_cars.pt\", 13433675)"
            ],
            "text/plain": [
              "<IPython.core.display.Javascript object>"
            ]
          },
          "metadata": {
            "tags": []
          }
        }
      ]
    },
    {
      "cell_type": "code",
      "metadata": {
        "id": "n5BJFUs1vhZs",
        "colab_type": "code",
        "colab": {}
      },
      "source": [
        "with torch.no_grad():\n",
        "    fake = netG(torch.randn(1, 64, 1, 1).to(device)).detach().cpu()\n",
        "fakei = fake[0]\n",
        "norm_tensor(fakei)"
      ],
      "execution_count": 20,
      "outputs": []
    },
    {
      "cell_type": "code",
      "metadata": {
        "id": "UTWxKMXov2Ja",
        "colab_type": "code",
        "colab": {}
      },
      "source": [
        "def norm_ip(img, min, max):\n",
        "    img.clamp_(min=min, max=max)\n",
        "    img.add_(-min).div_(max - min + 1e-5)\n",
        "\n",
        "def norm_tensor(t):\n",
        "    norm_ip(t, float(t.min()), float(t.max()))"
      ],
      "execution_count": 21,
      "outputs": []
    },
    {
      "cell_type": "code",
      "metadata": {
        "id": "6oxyAzAuvvbf",
        "colab_type": "code",
        "colab": {
          "base_uri": "https://localhost:8080/",
          "height": 466
        },
        "outputId": "b6526780-7f8b-492b-e3b1-6c0d72c3be53"
      },
      "source": [
        "plt.figure(figsize=(8, 8))\n",
        "plt.imshow(fakei.permute(1, 2, 0))\n",
        "plt.axis('off')\n",
        "plt.grid('off')"
      ],
      "execution_count": 22,
      "outputs": [
        {
          "output_type": "display_data",
          "data": {
            "image/png": "[encoded data removed]",
            "text/plain": [
              "<Figure size 576x576 with 1 Axes>"
            ]
          },
          "metadata": {
            "tags": [],
            "needs_background": "light"
          }
        }
      ]
    },
    {
      "cell_type": "code",
      "metadata": {
        "id": "r9J9uKTXWysc",
        "colab_type": "code",
        "colab": {}
      },
      "source": [
        "!cp DCGAN_cars.pt /content/gdrive/My\\ Drive/EVA4P2/Sess6/"
      ],
      "execution_count": 19,
      "outputs": []
    },
    {
      "cell_type": "code",
      "metadata": {
        "id": "WBs7ErQqAcWT",
        "colab_type": "code",
        "colab": {
          "base_uri": "https://localhost:8080/",
          "height": 350
        },
        "outputId": "5211728d-ffd5-4c07-e85a-53c1aae30f53"
      },
      "source": [
        "plt.figure(figsize=(10,5))\n",
        "plt.title(\"Generator and Discriminator Loss During Training\")\n",
        "plt.plot(G_losses,label=\"G\")\n",
        "plt.plot(D_losses,label=\"D\")\n",
        "plt.xlabel(\"iterations\")\n",
        "plt.ylabel(\"Loss\")\n",
        "plt.legend()\n",
        "plt.show()"
      ],
      "execution_count": 11,
      "outputs": [
        {
          "output_type": "display_data",
          "data": {
            "image/png": "[encoded data removed]",
            "text/plain": [
              "<Figure size 720x360 with 1 Axes>"
            ]
          },
          "metadata": {
            "tags": [],
            "needs_background": "light"
          }
        }
      ]
    },
    {
      "cell_type": "code",
      "metadata": {
        "id": "FQC3O6n4CsQB",
        "colab_type": "code",
        "colab": {}
      },
      "source": [
        "#%%capture\n",
        "fig = plt.figure(figsize=(8,8))\n",
        "plt.axis(\"off\")\n",
        "ims = [[plt.imshow(np.transpose(i,(1,2,0)), animated=True)] for i in img_list]\n",
        "ani = animation.ArtistAnimation(fig, ims, interval=1000, repeat_delay=1000, blit=True)\n",
        "\n",
        "HTML(ani.to_jshtml())"
      ],
      "execution_count": null,
      "outputs": []
    },
    {
      "cell_type": "code",
      "metadata": {
        "id": "FVw4C9HCDJx3",
        "colab_type": "code",
        "colab": {
          "base_uri": "https://localhost:8080/",
          "height": 51
        },
        "outputId": "6cfada3c-d386-4253-9603-e0387b88e9e9"
      },
      "source": [
        "print(len(img_list))\n",
        "print(img_list[0].shape)"
      ],
      "execution_count": null,
      "outputs": [
        {
          "output_type": "stream",
          "text": [
            "16\n",
            "torch.Size([3, 1042, 1042])\n"
          ],
          "name": "stdout"
        }
      ]
    }
  ]
}